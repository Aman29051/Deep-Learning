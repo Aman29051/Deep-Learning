{
 "cells": [
  {
   "cell_type": "code",
   "execution_count": 70,
   "metadata": {},
   "outputs": [],
   "source": [
    "import numpy as np\n",
    "import pandas as pd\n",
    "from sklearn.model_selection import train_test_split\n",
    "from keras.layers import Dense,Dropout\n",
    "from keras.models import Sequential"
   ]
  },
  {
   "cell_type": "code",
   "execution_count": 71,
   "metadata": {},
   "outputs": [
    {
     "data": {
      "text/plain": [
       "(284807, 31)"
      ]
     },
     "execution_count": 71,
     "metadata": {},
     "output_type": "execute_result"
    }
   ],
   "source": [
    "data=pd.read_csv(r\"C:\\Users\\amany\\Desktop\\archive datasets\\creditcard.csv\")\n",
    "data.shape"
   ]
  },
  {
   "cell_type": "code",
   "execution_count": 72,
   "metadata": {},
   "outputs": [
    {
     "data": {
      "text/html": [
       "<div>\n",
       "<style scoped>\n",
       "    .dataframe tbody tr th:only-of-type {\n",
       "        vertical-align: middle;\n",
       "    }\n",
       "\n",
       "    .dataframe tbody tr th {\n",
       "        vertical-align: top;\n",
       "    }\n",
       "\n",
       "    .dataframe thead th {\n",
       "        text-align: right;\n",
       "    }\n",
       "</style>\n",
       "<table border=\"1\" class=\"dataframe\">\n",
       "  <thead>\n",
       "    <tr style=\"text-align: right;\">\n",
       "      <th></th>\n",
       "      <th>Time</th>\n",
       "      <th>V1</th>\n",
       "      <th>V2</th>\n",
       "      <th>V3</th>\n",
       "      <th>V4</th>\n",
       "      <th>V5</th>\n",
       "      <th>V6</th>\n",
       "      <th>V7</th>\n",
       "      <th>V8</th>\n",
       "      <th>V9</th>\n",
       "      <th>...</th>\n",
       "      <th>V21</th>\n",
       "      <th>V22</th>\n",
       "      <th>V23</th>\n",
       "      <th>V24</th>\n",
       "      <th>V25</th>\n",
       "      <th>V26</th>\n",
       "      <th>V27</th>\n",
       "      <th>V28</th>\n",
       "      <th>Amount</th>\n",
       "      <th>Class</th>\n",
       "    </tr>\n",
       "  </thead>\n",
       "  <tbody>\n",
       "    <tr>\n",
       "      <th>0</th>\n",
       "      <td>0.0</td>\n",
       "      <td>-1.359807</td>\n",
       "      <td>-0.072781</td>\n",
       "      <td>2.536347</td>\n",
       "      <td>1.378155</td>\n",
       "      <td>-0.338321</td>\n",
       "      <td>0.462388</td>\n",
       "      <td>0.239599</td>\n",
       "      <td>0.098698</td>\n",
       "      <td>0.363787</td>\n",
       "      <td>...</td>\n",
       "      <td>-0.018307</td>\n",
       "      <td>0.277838</td>\n",
       "      <td>-0.110474</td>\n",
       "      <td>0.066928</td>\n",
       "      <td>0.128539</td>\n",
       "      <td>-0.189115</td>\n",
       "      <td>0.133558</td>\n",
       "      <td>-0.021053</td>\n",
       "      <td>149.62</td>\n",
       "      <td>0</td>\n",
       "    </tr>\n",
       "    <tr>\n",
       "      <th>1</th>\n",
       "      <td>0.0</td>\n",
       "      <td>1.191857</td>\n",
       "      <td>0.266151</td>\n",
       "      <td>0.166480</td>\n",
       "      <td>0.448154</td>\n",
       "      <td>0.060018</td>\n",
       "      <td>-0.082361</td>\n",
       "      <td>-0.078803</td>\n",
       "      <td>0.085102</td>\n",
       "      <td>-0.255425</td>\n",
       "      <td>...</td>\n",
       "      <td>-0.225775</td>\n",
       "      <td>-0.638672</td>\n",
       "      <td>0.101288</td>\n",
       "      <td>-0.339846</td>\n",
       "      <td>0.167170</td>\n",
       "      <td>0.125895</td>\n",
       "      <td>-0.008983</td>\n",
       "      <td>0.014724</td>\n",
       "      <td>2.69</td>\n",
       "      <td>0</td>\n",
       "    </tr>\n",
       "    <tr>\n",
       "      <th>2</th>\n",
       "      <td>1.0</td>\n",
       "      <td>-1.358354</td>\n",
       "      <td>-1.340163</td>\n",
       "      <td>1.773209</td>\n",
       "      <td>0.379780</td>\n",
       "      <td>-0.503198</td>\n",
       "      <td>1.800499</td>\n",
       "      <td>0.791461</td>\n",
       "      <td>0.247676</td>\n",
       "      <td>-1.514654</td>\n",
       "      <td>...</td>\n",
       "      <td>0.247998</td>\n",
       "      <td>0.771679</td>\n",
       "      <td>0.909412</td>\n",
       "      <td>-0.689281</td>\n",
       "      <td>-0.327642</td>\n",
       "      <td>-0.139097</td>\n",
       "      <td>-0.055353</td>\n",
       "      <td>-0.059752</td>\n",
       "      <td>378.66</td>\n",
       "      <td>0</td>\n",
       "    </tr>\n",
       "    <tr>\n",
       "      <th>3</th>\n",
       "      <td>1.0</td>\n",
       "      <td>-0.966272</td>\n",
       "      <td>-0.185226</td>\n",
       "      <td>1.792993</td>\n",
       "      <td>-0.863291</td>\n",
       "      <td>-0.010309</td>\n",
       "      <td>1.247203</td>\n",
       "      <td>0.237609</td>\n",
       "      <td>0.377436</td>\n",
       "      <td>-1.387024</td>\n",
       "      <td>...</td>\n",
       "      <td>-0.108300</td>\n",
       "      <td>0.005274</td>\n",
       "      <td>-0.190321</td>\n",
       "      <td>-1.175575</td>\n",
       "      <td>0.647376</td>\n",
       "      <td>-0.221929</td>\n",
       "      <td>0.062723</td>\n",
       "      <td>0.061458</td>\n",
       "      <td>123.50</td>\n",
       "      <td>0</td>\n",
       "    </tr>\n",
       "    <tr>\n",
       "      <th>4</th>\n",
       "      <td>2.0</td>\n",
       "      <td>-1.158233</td>\n",
       "      <td>0.877737</td>\n",
       "      <td>1.548718</td>\n",
       "      <td>0.403034</td>\n",
       "      <td>-0.407193</td>\n",
       "      <td>0.095921</td>\n",
       "      <td>0.592941</td>\n",
       "      <td>-0.270533</td>\n",
       "      <td>0.817739</td>\n",
       "      <td>...</td>\n",
       "      <td>-0.009431</td>\n",
       "      <td>0.798278</td>\n",
       "      <td>-0.137458</td>\n",
       "      <td>0.141267</td>\n",
       "      <td>-0.206010</td>\n",
       "      <td>0.502292</td>\n",
       "      <td>0.219422</td>\n",
       "      <td>0.215153</td>\n",
       "      <td>69.99</td>\n",
       "      <td>0</td>\n",
       "    </tr>\n",
       "  </tbody>\n",
       "</table>\n",
       "<p>5 rows × 31 columns</p>\n",
       "</div>"
      ],
      "text/plain": [
       "   Time        V1        V2        V3        V4        V5        V6        V7  \\\n",
       "0   0.0 -1.359807 -0.072781  2.536347  1.378155 -0.338321  0.462388  0.239599   \n",
       "1   0.0  1.191857  0.266151  0.166480  0.448154  0.060018 -0.082361 -0.078803   \n",
       "2   1.0 -1.358354 -1.340163  1.773209  0.379780 -0.503198  1.800499  0.791461   \n",
       "3   1.0 -0.966272 -0.185226  1.792993 -0.863291 -0.010309  1.247203  0.237609   \n",
       "4   2.0 -1.158233  0.877737  1.548718  0.403034 -0.407193  0.095921  0.592941   \n",
       "\n",
       "         V8        V9  ...       V21       V22       V23       V24       V25  \\\n",
       "0  0.098698  0.363787  ... -0.018307  0.277838 -0.110474  0.066928  0.128539   \n",
       "1  0.085102 -0.255425  ... -0.225775 -0.638672  0.101288 -0.339846  0.167170   \n",
       "2  0.247676 -1.514654  ...  0.247998  0.771679  0.909412 -0.689281 -0.327642   \n",
       "3  0.377436 -1.387024  ... -0.108300  0.005274 -0.190321 -1.175575  0.647376   \n",
       "4 -0.270533  0.817739  ... -0.009431  0.798278 -0.137458  0.141267 -0.206010   \n",
       "\n",
       "        V26       V27       V28  Amount  Class  \n",
       "0 -0.189115  0.133558 -0.021053  149.62      0  \n",
       "1  0.125895 -0.008983  0.014724    2.69      0  \n",
       "2 -0.139097 -0.055353 -0.059752  378.66      0  \n",
       "3 -0.221929  0.062723  0.061458  123.50      0  \n",
       "4  0.502292  0.219422  0.215153   69.99      0  \n",
       "\n",
       "[5 rows x 31 columns]"
      ]
     },
     "execution_count": 72,
     "metadata": {},
     "output_type": "execute_result"
    }
   ],
   "source": [
    "data.head()"
   ]
  },
  {
   "cell_type": "code",
   "execution_count": 73,
   "metadata": {},
   "outputs": [
    {
     "data": {
      "text/plain": [
       "Time      0\n",
       "V1        0\n",
       "V2        0\n",
       "V3        0\n",
       "V4        0\n",
       "V5        0\n",
       "V6        0\n",
       "V7        0\n",
       "V8        0\n",
       "V9        0\n",
       "V10       0\n",
       "V11       0\n",
       "V12       0\n",
       "V13       0\n",
       "V14       0\n",
       "V15       0\n",
       "V16       0\n",
       "V17       0\n",
       "V18       0\n",
       "V19       0\n",
       "V20       0\n",
       "V21       0\n",
       "V22       0\n",
       "V23       0\n",
       "V24       0\n",
       "V25       0\n",
       "V26       0\n",
       "V27       0\n",
       "V28       0\n",
       "Amount    0\n",
       "Class     0\n",
       "dtype: int64"
      ]
     },
     "execution_count": 73,
     "metadata": {},
     "output_type": "execute_result"
    }
   ],
   "source": [
    "data.isnull().sum()"
   ]
  },
  {
   "cell_type": "code",
   "execution_count": 74,
   "metadata": {},
   "outputs": [
    {
     "data": {
      "text/plain": [
       "0    284315\n",
       "1       492\n",
       "Name: Class, dtype: int64"
      ]
     },
     "execution_count": 74,
     "metadata": {},
     "output_type": "execute_result"
    }
   ],
   "source": [
    "data['Class'].value_counts()"
   ]
  },
  {
   "cell_type": "code",
   "execution_count": 75,
   "metadata": {},
   "outputs": [],
   "source": [
    "X=data.drop('Class',axis=1)\n",
    "y=data['Class']"
   ]
  },
  {
   "cell_type": "code",
   "execution_count": 76,
   "metadata": {},
   "outputs": [
    {
     "data": {
      "text/plain": [
       "((213605, 30), (71202, 30), (213605,), (71202,))"
      ]
     },
     "execution_count": 76,
     "metadata": {},
     "output_type": "execute_result"
    }
   ],
   "source": [
    "x_trg,x_test,y_trg,y_test=train_test_split(X,y,test_size=0.25,random_state=0)\n",
    "x_trg.shape,x_test.shape,y_trg.shape,y_test.shape"
   ]
  },
  {
   "cell_type": "code",
   "execution_count": 81,
   "metadata": {},
   "outputs": [
    {
     "data": {
      "text/plain": [
       "0"
      ]
     },
     "execution_count": 81,
     "metadata": {},
     "output_type": "execute_result"
    }
   ],
   "source": [
    "y_test.isnull().sum()"
   ]
  },
  {
   "cell_type": "code",
   "execution_count": 82,
   "metadata": {},
   "outputs": [
    {
     "data": {
      "text/plain": [
       "30"
      ]
     },
     "execution_count": 82,
     "metadata": {},
     "output_type": "execute_result"
    }
   ],
   "source": [
    "input_dim=x_trg.shape[1]\n",
    "input_dim"
   ]
  },
  {
   "cell_type": "code",
   "execution_count": 83,
   "metadata": {},
   "outputs": [],
   "source": [
    "model=Sequential()\n",
    "model.add(Dense(10,input_dim=input_dim,kernel_initializer='uniform',activation='softmax')) #Input Layer\n",
    "model.add(Dropout(0))                                                  #Hidden Layer\n",
    "model.add(Dense(1,kernel_initializer='uniform',activation='sigmoid'))  #output layer"
   ]
  },
  {
   "cell_type": "code",
   "execution_count": 84,
   "metadata": {},
   "outputs": [],
   "source": [
    "model.compile(loss='binary_crossentropy',optimizer='RMSprop',metrics=['accuracy'])  #compile the model"
   ]
  },
  {
   "cell_type": "code",
   "execution_count": 85,
   "metadata": {},
   "outputs": [
    {
     "name": "stdout",
     "output_type": "stream",
     "text": [
      "Epoch 1/50\n",
      "107/107 [==============================] - 1s 4ms/step - loss: 0.6454 - accuracy: 0.9984\n",
      "Epoch 2/50\n",
      "107/107 [==============================] - 0s 4ms/step - loss: 0.5404 - accuracy: 0.9982\n",
      "Epoch 3/50\n",
      "107/107 [==============================] - 0s 4ms/step - loss: 0.4579 - accuracy: 0.9982\n",
      "Epoch 4/50\n",
      "107/107 [==============================] - 0s 4ms/step - loss: 0.3859 - accuracy: 0.9981\n",
      "Epoch 5/50\n",
      "107/107 [==============================] - 0s 4ms/step - loss: 0.3233 - accuracy: 0.9983\n",
      "Epoch 6/50\n",
      "107/107 [==============================] - 0s 4ms/step - loss: 0.2701 - accuracy: 0.9981\n",
      "Epoch 7/50\n",
      "107/107 [==============================] - 0s 4ms/step - loss: 0.2247 - accuracy: 0.9982\n",
      "Epoch 8/50\n",
      "107/107 [==============================] - 0s 4ms/step - loss: 0.1866 - accuracy: 0.9982\n",
      "Epoch 9/50\n",
      "107/107 [==============================] - 0s 4ms/step - loss: 0.1543 - accuracy: 0.9983\n",
      "Epoch 10/50\n",
      "107/107 [==============================] - 0s 4ms/step - loss: 0.1279 - accuracy: 0.9982\n",
      "Epoch 11/50\n",
      "107/107 [==============================] - 0s 4ms/step - loss: 0.1059 - accuracy: 0.9981\n",
      "Epoch 12/50\n",
      "107/107 [==============================] - 0s 4ms/step - loss: 0.0872 - accuracy: 0.9984\n",
      "Epoch 13/50\n",
      "107/107 [==============================] - 0s 4ms/step - loss: 0.0725 - accuracy: 0.9983\n",
      "Epoch 14/50\n",
      "107/107 [==============================] - 0s 4ms/step - loss: 0.0605 - accuracy: 0.9982\n",
      "Epoch 15/50\n",
      "107/107 [==============================] - 0s 4ms/step - loss: 0.0499 - accuracy: 0.9984\n",
      "Epoch 16/50\n",
      "107/107 [==============================] - 0s 4ms/step - loss: 0.0428 - accuracy: 0.9982\n",
      "Epoch 17/50\n",
      "107/107 [==============================] - 0s 4ms/step - loss: 0.0359 - accuracy: 0.9983\n",
      "Epoch 18/50\n",
      "107/107 [==============================] - 0s 4ms/step - loss: 0.0311 - accuracy: 0.9982\n",
      "Epoch 19/50\n",
      "107/107 [==============================] - 0s 4ms/step - loss: 0.0274 - accuracy: 0.9981\n",
      "Epoch 20/50\n",
      "107/107 [==============================] - 0s 4ms/step - loss: 0.0229 - accuracy: 0.9983\n",
      "Epoch 21/50\n",
      "107/107 [==============================] - 0s 4ms/step - loss: 0.0209 - accuracy: 0.9982\n",
      "Epoch 22/50\n",
      "107/107 [==============================] - 0s 4ms/step - loss: 0.0185 - accuracy: 0.9983\n",
      "Epoch 23/50\n",
      "107/107 [==============================] - 0s 4ms/step - loss: 0.0168 - accuracy: 0.9983\n",
      "Epoch 24/50\n",
      "107/107 [==============================] - 0s 4ms/step - loss: 0.0149 - accuracy: 0.9984\n",
      "Epoch 25/50\n",
      "107/107 [==============================] - 0s 4ms/step - loss: 0.0152 - accuracy: 0.9982\n",
      "Epoch 26/50\n",
      "107/107 [==============================] - 0s 4ms/step - loss: 0.0136 - accuracy: 0.9983\n",
      "Epoch 27/50\n",
      "107/107 [==============================] - 0s 4ms/step - loss: 0.0137 - accuracy: 0.9982\n",
      "Epoch 28/50\n",
      "107/107 [==============================] - 0s 3ms/step - loss: 0.0129 - accuracy: 0.9983\n",
      "Epoch 29/50\n",
      "107/107 [==============================] - 0s 4ms/step - loss: 0.0133 - accuracy: 0.9982\n",
      "Epoch 30/50\n",
      "107/107 [==============================] - 0s 4ms/step - loss: 0.0132 - accuracy: 0.9982\n",
      "Epoch 31/50\n",
      "107/107 [==============================] - 0s 3ms/step - loss: 0.0129 - accuracy: 0.9983\n",
      "Epoch 32/50\n",
      "107/107 [==============================] - 0s 4ms/step - loss: 0.0123 - accuracy: 0.9983\n",
      "Epoch 33/50\n",
      "107/107 [==============================] - 0s 4ms/step - loss: 0.0124 - accuracy: 0.9983\n",
      "Epoch 34/50\n",
      "107/107 [==============================] - 0s 4ms/step - loss: 0.0131 - accuracy: 0.9982\n",
      "Epoch 35/50\n",
      "107/107 [==============================] - 0s 4ms/step - loss: 0.0137 - accuracy: 0.9981\n",
      "Epoch 36/50\n",
      "107/107 [==============================] - 0s 4ms/step - loss: 0.0133 - accuracy: 0.9982\n",
      "Epoch 37/50\n",
      "107/107 [==============================] - 0s 4ms/step - loss: 0.0123 - accuracy: 0.9983\n",
      "Epoch 38/50\n",
      "107/107 [==============================] - 0s 4ms/step - loss: 0.0122 - accuracy: 0.9983\n",
      "Epoch 39/50\n",
      "107/107 [==============================] - 0s 4ms/step - loss: 0.0126 - accuracy: 0.9983\n",
      "Epoch 40/50\n",
      "107/107 [==============================] - 0s 4ms/step - loss: 0.0115 - accuracy: 0.9985\n",
      "Epoch 41/50\n",
      "107/107 [==============================] - 0s 4ms/step - loss: 0.0124 - accuracy: 0.9983\n",
      "Epoch 42/50\n",
      "107/107 [==============================] - 0s 4ms/step - loss: 0.0137 - accuracy: 0.9981\n",
      "Epoch 43/50\n",
      "107/107 [==============================] - 0s 4ms/step - loss: 0.0126 - accuracy: 0.9983\n",
      "Epoch 44/50\n",
      "107/107 [==============================] - 0s 4ms/step - loss: 0.0128 - accuracy: 0.9983\n",
      "Epoch 45/50\n",
      "107/107 [==============================] - 0s 4ms/step - loss: 0.0128 - accuracy: 0.9983\n",
      "Epoch 46/50\n",
      "107/107 [==============================] - 0s 4ms/step - loss: 0.0123 - accuracy: 0.9983\n",
      "Epoch 47/50\n",
      "107/107 [==============================] - 0s 4ms/step - loss: 0.0132 - accuracy: 0.9982\n",
      "Epoch 48/50\n",
      "107/107 [==============================] - 0s 4ms/step - loss: 0.0126 - accuracy: 0.9983\n",
      "Epoch 49/50\n",
      "107/107 [==============================] - 0s 4ms/step - loss: 0.0132 - accuracy: 0.9982\n",
      "Epoch 50/50\n",
      "107/107 [==============================] - 0s 4ms/step - loss: 0.0123 - accuracy: 0.9983\n"
     ]
    },
    {
     "data": {
      "text/plain": [
       "<tensorflow.python.keras.callbacks.History at 0x20e8e313f88>"
      ]
     },
     "execution_count": 85,
     "metadata": {},
     "output_type": "execute_result"
    }
   ],
   "source": [
    "model.fit(x_trg,y_trg,epochs=50,batch_size=2000)"
   ]
  },
  {
   "cell_type": "code",
   "execution_count": 86,
   "metadata": {},
   "outputs": [
    {
     "data": {
      "text/plain": [
       "0"
      ]
     },
     "execution_count": 86,
     "metadata": {},
     "output_type": "execute_result"
    }
   ],
   "source": [
    "y_test.isnull().sum()"
   ]
  },
  {
   "cell_type": "code",
   "execution_count": 87,
   "metadata": {},
   "outputs": [
    {
     "name": "stdout",
     "output_type": "stream",
     "text": [
      "2226/2226 [==============================] - 4s 1ms/step - loss: 0.0124 - accuracy: 0.9983\n",
      "[0.012447034008800983, 0.9983146786689758]\n",
      "6676/6676 [==============================] - 9s 1ms/step - loss: 0.0128 - accuracy: 0.9983\n",
      "[0.012803233228623867, 0.9982584714889526]\n"
     ]
    }
   ],
   "source": [
    "score=model.evaluate(x_test,y_test)\n",
    "print(score)\n",
    "score=model.evaluate(x_trg,y_trg)\n",
    "print(score)"
   ]
  }
 ],
 "metadata": {
  "kernelspec": {
   "display_name": "Python 3",
   "language": "python",
   "name": "python3"
  },
  "language_info": {
   "codemirror_mode": {
    "name": "ipython",
    "version": 3
   },
   "file_extension": ".py",
   "mimetype": "text/x-python",
   "name": "python",
   "nbconvert_exporter": "python",
   "pygments_lexer": "ipython3",
   "version": "3.7.4"
  }
 },
 "nbformat": 4,
 "nbformat_minor": 2
}
